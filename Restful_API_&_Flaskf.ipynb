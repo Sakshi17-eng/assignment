{
  "nbformat": 4,
  "nbformat_minor": 0,
  "metadata": {
    "colab": {
      "provenance": []
    },
    "kernelspec": {
      "name": "python3",
      "display_name": "Python 3"
    },
    "language_info": {
      "name": "python"
    }
  },
  "cells": [
    {
      "cell_type": "markdown",
      "source": [
        "## **THEORY QUESTIONS**"
      ],
      "metadata": {
        "id": "hGu60SahFbiN"
      }
    },
    {
      "cell_type": "markdown",
      "source": [
        "###1.What is a RESTful API?\n",
        "A RESTful API (Representational State Transfer) is an architectural style for designing networked applications. It leverages standard HTTP methods to perform operations on resources, making it stateless, scalable, and cacheable. RESTful APIs are widely used for web services, allowing different systems to communicate seamlessly by exchanging representations of resources, typically in JSON or XML format."
      ],
      "metadata": {
        "id": "KzSYsHrFC7VO"
      }
    },
    {
      "cell_type": "markdown",
      "source": [
        "###2.Explain the concept of API specification.\n",
        "An API specification is a blueprint or contract that describes how an API works and how clients should interact with it. It defines the available endpoints, HTTP methods, request/response formats, authentication mechanisms, and error handling. Specifications like OpenAPI (Swagger) help in documenting, generating client SDKs, and ensuring consistent communication between API providers and consumers.\n",
        "\n"
      ],
      "metadata": {
        "id": "xqNgA66JC_dZ"
      }
    },
    {
      "cell_type": "markdown",
      "source": [
        "###3. What is Flask, and why is it popular for building APIs?\n",
        "Flask is a lightweight Python web framework known for its simplicity and flexibility. It's popular for building APIs because it provides the essentials without imposing a rigid structure, allowing developers to choose their own tools and libraries. Its \"microframework\" nature makes it easy to get started quickly and scale efficiently, especially for smaller to medium-sized API projects.\n",
        "\n"
      ],
      "metadata": {
        "id": "HxyznlnbDGn6"
      }
    },
    {
      "cell_type": "markdown",
      "source": [
        "###4. What is routing in Flask?\n",
        "Routing in Flask refers to the process of mapping URLs (web addresses) to specific Python functions that handle the incoming requests. It determines which function should execute when a user accesses a particular URL. Flask uses the @app.route() decorator to define these mappings, allowing developers to create logical and organized API endpoints."
      ],
      "metadata": {
        "id": "KaFkJLffDNMZ"
      }
    },
    {
      "cell_type": "markdown",
      "source": [
        "###5. How do you create a simple Flask application?\n",
        "To create a simple Flask application, you first import Flask from the flask module. Then, you instantiate a Flask object, typically named app. You define a route using the @app.route('/') decorator, which maps the root URL to a function that returns a string. Finally, you run the application using app.run()"
      ],
      "metadata": {
        "id": "4clpU5u6DW15"
      }
    },
    {
      "cell_type": "markdown",
      "source": [
        "###6. What are HTTP methods used in RESTful APIs?\n",
        "HTTP methods, also known as verbs, define the type of action to be performed on a resource in a RESTful API. Common methods include GET (retrieve data), POST (create new data), PUT (update existing data or create if not exists), DELETE (remove data), and PATCH (partially update data). These methods align with CRUD operations (Create, Read, Update, Delete)."
      ],
      "metadata": {
        "id": "HuupZXaTDe1W"
      }
    },
    {
      "cell_type": "markdown",
      "source": [
        "###7. What is the purpose of the @app.route() decorator in Flask?\n",
        "The @app.route() decorator in Flask is used to associate a URL path with a Python function. When a client makes a request to that specific URL, the decorated function is executed. It defines the routing rules for your application, allowing you to create different endpoints for various functionalities within your API."
      ],
      "metadata": {
        "id": "W5ZBP89pDkn0"
      }
    },
    {
      "cell_type": "markdown",
      "source": [
        "###8. What is the difference between GET and POST HTTP methods?\n",
        "GET is used to retrieve data from a server and is idempotent (multiple identical requests have the same effect as a single one) and safe (no side effects). Parameters are sent in the URL query string. POST is used to submit data to be processed to a specified resource, often resulting in a change in state on the server. Data is sent in the request body, making it suitable for sensitive or large amounts of data."
      ],
      "metadata": {
        "id": "7re3gxvlDrB9"
      }
    },
    {
      "cell_type": "markdown",
      "source": [
        "###9. How do you handle errors in Flask APIs?\n",
        "Error handling in Flask APIs typically involves using abort() to raise HTTP exceptions (e.g., abort(404) for Not Found) or defining custom error handlers using @app.errorhandler(). These handlers catch specific HTTP status codes or exception types and return a custom error response, often in JSON format, providing more informative feedback to API consumers."
      ],
      "metadata": {
        "id": "4fz66TgeDy4V"
      }
    },
    {
      "cell_type": "markdown",
      "source": [
        "###10. How do you connect Flask to a SQL database?\n",
        "Connecting Flask to a SQL database often involves using an ORM (Object-Relational Mapper) like SQLAlchemy, often in conjunction with Flask-SQLAlchemy. You configure the database URI in your Flask app, then use the ORM to define models that map to database tables. This allows you to interact with the database using Python objects rather than raw SQL queries."
      ],
      "metadata": {
        "id": "KPuqfxsJD35U"
      }
    },
    {
      "cell_type": "markdown",
      "source": [
        "###11. What is the role of Flask-SQLAlchemy?\n",
        "Flask-SQLAlchemy is a Flask extension that simplifies the integration of SQLAlchemy, a powerful SQL toolkit and ORM, with Flask applications. It handles configuration, session management, and provides helper functions, making it easier to define database models, perform queries, and manage database interactions within your Flask API without a lot of boilerplate code."
      ],
      "metadata": {
        "id": "-v4b-FhpEGEp"
      }
    },
    {
      "cell_type": "markdown",
      "source": [
        "###12. What are Flask blueprints, and how are they useful?\n",
        "Flask blueprints are a way to organize your Flask application into modular components. They allow you to define routes, static files, and templates in separate files, making large applications more manageable and scalable. Blueprints can be registered with the main Flask application, enabling reusability and better separation of concerns, especially for larger API projects."
      ],
      "metadata": {
        "id": "W34AdhRjEL_M"
      }
    },
    {
      "cell_type": "markdown",
      "source": [
        "###13. What is the purpose of Flask's request object?\n",
        "Flask's request object is a global object that provides access to incoming request data. It holds information about the current HTTP request, such as the method (GET, POST, etc.), headers, query parameters (request.args), form data (request.form), JSON data (request.json), and files (request.files). It's essential for processing client inputs in API endpoints."
      ],
      "metadata": {
        "id": "L4q0t570ETHB"
      }
    },
    {
      "cell_type": "markdown",
      "source": [
        "###14. How do you create a RESTful API endpoint using Flask?\n",
        "To create a RESTful API endpoint in Flask, you define a Python function and decorate it with @app.route(), specifying the URL path and HTTP methods. Inside the function, you process the incoming request (using request object), interact with your data source, and return a response, typically using jsonify() to send JSON data along with an appropriate HTTP status code."
      ],
      "metadata": {
        "id": "WUK15wv7EY4r"
      }
    },
    {
      "cell_type": "markdown",
      "source": [
        "###15. What is the purpose of Flask's jsonify() function?\n",
        "Flask's jsonify() function is used to serialize Python dictionaries or lists into JSON formatted responses. It automatically sets the Content-Type header to application/json and handles proper JSON encoding. This function is crucial for building RESTful APIs in Flask, as JSON is the standard format for data exchange between API clients and servers."
      ],
      "metadata": {
        "id": "n4MlMYzjEd6c"
      }
    },
    {
      "cell_type": "markdown",
      "source": [
        "###16. Explain Flask’s url_for() function.\n",
        "Flask's url_for() function is used for URL building, generating URLs for a given endpoint function. Instead of hardcoding URLs, which can break if routes change, url_for() dynamically constructs them based on the function name. This promotes maintainability and consistency in your API, especially when dealing with links within responses or redirection."
      ],
      "metadata": {
        "id": "RjROh-mCEi-u"
      }
    },
    {
      "cell_type": "markdown",
      "source": [
        "###17. How does Flask handle static files (CSS, JavaScript, etc.)?\n",
        "Flask handles static files by serving them from a designated static folder within your application directory. You can specify a different static folder and URL prefix during Flask app initialization. In your templates or API responses, you can generate URLs to these static files using url_for('static', filename='path/to/file.css'), allowing browsers to retrieve them."
      ],
      "metadata": {
        "id": "KxdkwE8iEqLQ"
      }
    },
    {
      "cell_type": "markdown",
      "source": [
        "###18. What is an API specification, and how does it help in building a Flask API?\n",
        "An API specification (e.g., OpenAPI) is a formal contract describing all aspects of an API, including endpoints, methods, data models, and security. For Flask APIs, it helps in design by ensuring consistency, generating documentation automatically, and facilitating communication between frontend and backend teams. It also allows for client SDK generation and automated testing."
      ],
      "metadata": {
        "id": "3FTcZ6JCEwNE"
      }
    },
    {
      "cell_type": "markdown",
      "source": [
        "###19. What are HTTP status codes, and why are they important in a Flask API?\n",
        "HTTP status codes are three-digit numbers returned by a server in response to an HTTP request, indicating the outcome of the request (e.g., 200 OK, 404 Not Found, 500 Internal Server Error). In a Flask API, they are crucial for conveying the success or failure of an operation to the client, enabling proper error handling and client-side logic based on the response status."
      ],
      "metadata": {
        "id": "JIL4ftG2E1iH"
      }
    },
    {
      "cell_type": "markdown",
      "source": [
        "###20. How do you handle POST requests in Flask?\n",
        "To handle POST requests in Flask, you define a route function and specify methods=['POST'] in the @app.route() decorator. Inside the function, you access the data sent in the request body using request.json (for JSON data) or request.form (for form data). You then process this data, perform necessary operations (e.g., saving to a database), and return an appropriate response, often with a 201 Created status."
      ],
      "metadata": {
        "id": "Cz2_DLJTE9VN"
      }
    },
    {
      "cell_type": "markdown",
      "source": [
        "###21. How would you secure a Flask API?\n",
        "Securing a Flask API involves several measures: using HTTPS to encrypt communication, implementing authentication (e.g., JWT, OAuth) to verify user identity, and authorization to control access to resources. Additionally, protection against common vulnerabilities like SQL injection (using ORMs), XSS, CSRF, and rate limiting to prevent abuse are essential practices."
      ],
      "metadata": {
        "id": "Gbw5ppsPFDW7"
      }
    },
    {
      "cell_type": "markdown",
      "source": [
        "###22. What is the significance of the Flask-RESTful extension?\n",
        "Flask-RESTful is an extension for Flask that provides tools and conventions for quickly building REST APIs. It simplifies API development by offering resource-based routing, request parsing, and response formatting. It streamlines common API tasks, making it easier to define endpoints with clear HTTP method handling and consistent error responses, leading to more robust and scalable APIs."
      ],
      "metadata": {
        "id": "77mlp1Q6FJeC"
      }
    },
    {
      "cell_type": "markdown",
      "source": [
        "###23. What is the role of Flask’s session object?\n",
        "Flask's session object provides a way to store data that is specific to a user's session, typically across multiple requests. It uses signed cookies to store information on the client side, ensuring data integrity. The session is useful for maintaining user login status, temporary preferences, or other stateful information that needs to persist for a single user's interaction with the API or web application."
      ],
      "metadata": {
        "id": "F5pcUyxNFPf_"
      }
    },
    {
      "cell_type": "markdown",
      "source": [
        "## **PRACTICAL QUESTIONS**"
      ],
      "metadata": {
        "id": "E4qQ1UkSFj_7"
      }
    },
    {
      "cell_type": "markdown",
      "source": [
        "###1. How do you create a basic Flask application?"
      ],
      "metadata": {
        "id": "TNpm_TszFrvP"
      }
    },
    {
      "cell_type": "code",
      "source": [
        "from flask import Flask\n",
        "\n",
        "app = Flask(__name__)\n",
        "\n",
        "@app.route('/')\n",
        "def hello_world():\n",
        "    return 'Hello, World!'\n",
        "\n",
        "if __name__ == '__main__':\n",
        "    app.run(debug=True) # debug=True is good for development"
      ],
      "metadata": {
        "id": "BzHEzTtgF4Bs"
      },
      "execution_count": null,
      "outputs": []
    },
    {
      "cell_type": "markdown",
      "source": [
        "###2. How do you serve static files like images or CSS in Flask?"
      ],
      "metadata": {
        "id": "1q8sGkarF6Pj"
      }
    },
    {
      "cell_type": "code",
      "source": [
        "Flask automatically serves static files from a folder named static in your application's root directory.\n",
        "\n",
        "Create a static folder:\n",
        "\n",
        "your_flask_app/\n",
        "├── app.py\n",
        "└── static/\n",
        "    ├── style.css\n",
        "    └── image.jpg\n",
        "Reference them in your HTML templates:\n",
        "\n",
        "HTML\n",
        "\n",
        "<link rel=\"stylesheet\" href=\"{{ url_for('static', filename='style.css') }}\">\n",
        "<img src=\"{{ url_for('static', filename='image.jpg') }}\" alt=\"My Image\">"
      ],
      "metadata": {
        "id": "JD7uNkdVGAHc"
      },
      "execution_count": null,
      "outputs": []
    },
    {
      "cell_type": "markdown",
      "source": [
        "###3. How do you define different routes with different HTTP methods in Flask?"
      ],
      "metadata": {
        "id": "o9zXzulHGLy0"
      }
    },
    {
      "cell_type": "code",
      "source": [
        "from flask import Flask, request\n",
        "\n",
        "app = Flask(__name__)\n",
        "\n",
        "@app.route('/login', methods=['GET', 'POST'])\n",
        "def login():\n",
        "    if request.method == 'POST':\n",
        "        username = request.form['username']\n",
        "        password = request.form['password']\n",
        "        # Process login data\n",
        "        return f\"Logged in as {username}\"\n",
        "    return '''\n",
        "        <form method=\"post\">\n",
        "            <p><input type=text name=username></p>\n",
        "            <p><input type=password name=password></p>\n",
        "            <p><input type=submit value=Login></p>\n",
        "        </form>\n",
        "    '''"
      ],
      "metadata": {
        "id": "Rt2uXWjtGP-V"
      },
      "execution_count": null,
      "outputs": []
    },
    {
      "cell_type": "markdown",
      "source": [
        "###4. How do you render HTML templates in Flask?"
      ],
      "metadata": {
        "id": "IAqyYwS7GTwi"
      }
    },
    {
      "cell_type": "code",
      "source": [
        "1. Create a templates folder:\n",
        "\n",
        "your_flask_app/\n",
        "├── app.py\n",
        "└── templates/\n",
        "    └── index.html\n",
        "templates/index.html:\n",
        "\n",
        "2. HTML\n",
        "\n",
        "<!DOCTYPE html>\n",
        "<html>\n",
        "<head>\n",
        "    <title>{{ title }}</title>\n",
        "</head>\n",
        "<body>\n",
        "    <h1>Hello, {{ name }}!</h1>\n",
        "</body>\n",
        "</html>\n",
        "\n",
        "3. In your Flask app:\n",
        "from flask import Flask, render_template\n",
        "\n",
        "app = Flask(__name__)\n",
        "\n",
        "@app.route('/')\n",
        "def index():\n",
        "    return render_template('index.html', title='My Flask App', name='World')"
      ],
      "metadata": {
        "id": "w98Sm5vFGXBR"
      },
      "execution_count": null,
      "outputs": []
    },
    {
      "cell_type": "markdown",
      "source": [
        "###5. How can you generate URLs for routes in Flask using url_for?"
      ],
      "metadata": {
        "id": "4eEq8ffHGo3e"
      }
    },
    {
      "cell_type": "code",
      "source": [
        "from flask import Flask, url_for\n",
        "\n",
        "app = Flask(__name__)\n",
        "\n",
        "@app.route('/')\n",
        "def index():\n",
        "    return 'Welcome to the homepage!'\n",
        "\n",
        "@app.route('/user/<username>')\n",
        "def show_user_profile(username):\n",
        "    return f'User: {username}'\n",
        "\n",
        "@app.route('/post/<int:post_id>')\n",
        "def show_post(post_id):\n",
        "    return f'Post ID: {post_id}'\n",
        "\n",
        "with app.test_request_context():\n",
        "    print(url_for('index'))\n",
        "    print(url_for('show_user_profile', username='Alice'))\n",
        "    print(url_for('show_post', post_id=123))\n",
        "    print(url_for('static', filename='style.css'))"
      ],
      "metadata": {
        "id": "nc_Cuf8UGtLQ"
      },
      "execution_count": null,
      "outputs": []
    },
    {
      "cell_type": "markdown",
      "source": [
        "###6. How do you handle forms in Flask?"
      ],
      "metadata": {
        "id": "3xLhnAvFGvzz"
      }
    },
    {
      "cell_type": "code",
      "source": [
        "from flask import Flask, request, render_template, redirect, url_for\n",
        "\n",
        "app = Flask(__name__)\n",
        "\n",
        "@app.route('/submit_form', methods=['GET', 'POST'])\n",
        "def submit_form():\n",
        "    if request.method == 'POST':\n",
        "        name = request.form.get('name')\n",
        "        email = request.form.get('email')\n",
        "        # Process the form data (e.g., save to database)\n",
        "        return f\"Thank you, {name}! Your email is {email}.\"\n",
        "    return render_template('form.html') # Assume you have a form.html template\n",
        "\n",
        "# templates/form.html\n",
        "\"\"\"\n",
        "<form method=\"post\">\n",
        "    <label for=\"name\">Name:</label>\n",
        "    <input type=\"text\" id=\"name\" name=\"name\"><br><br>\n",
        "    <label for=\"email\">Email:</label>\n",
        "    <input type=\"email\" id=\"email\" name=\"email\"><br><br>\n",
        "    <input type=\"submit\" value=\"Submit\">\n",
        "</form>\n",
        "\"\"\""
      ],
      "metadata": {
        "id": "GOLRaztmG1y_"
      },
      "execution_count": null,
      "outputs": []
    },
    {
      "cell_type": "markdown",
      "source": [
        "###8. How do you manage sessions in Flask?"
      ],
      "metadata": {
        "id": "CzXx24mrG4fc"
      }
    },
    {
      "cell_type": "code",
      "source": [
        "from flask import Flask, session, redirect, url_for, escape, request\n",
        "\n",
        "app = Flask(__name__)\n",
        "app.config['SECRET_KEY'] = 'a_very_secret_key_that_you_should_change'\n",
        "\n",
        "@app.route('/')\n",
        "def index():\n",
        "    if 'username' in session:\n",
        "        return f'Logged in as {escape(session[\"username\"])} <br><a href=\"/logout\">Logout</a>'\n",
        "    return 'You are not logged in <br><a href=\"/login\">Login</a>'\n",
        "\n",
        "@app.route('/login', methods=['GET', 'POST'])\n",
        "def login():\n",
        "    if request.method == 'POST':\n",
        "        session['username'] = request.form['username']\n",
        "        return redirect(url_for('index'))\n",
        "    return '''\n",
        "        <form method=\"post\">\n",
        "            <p><input type=text name=username></p>\n",
        "            <p><input type=submit value=Login></p>\n",
        "        </form>\n",
        "    '''\n",
        "\n",
        "@app.route('/logout')\n",
        "def logout():\n",
        "    session.pop('username', None)\n",
        "    return redirect(url_for('index'))"
      ],
      "metadata": {
        "id": "twVY7XfCG_5B"
      },
      "execution_count": null,
      "outputs": []
    },
    {
      "cell_type": "markdown",
      "source": [
        "###9. How do you redirect to a different route in Flask?"
      ],
      "metadata": {
        "id": "AHEHZLlPHCB4"
      }
    },
    {
      "cell_type": "code",
      "source": [
        "from flask import Flask, redirect, url_for\n",
        "\n",
        "app = Flask(__name__)\n",
        "\n",
        "@app.route('/')\n",
        "def home():\n",
        "    return 'Welcome to the homepage!'\n",
        "\n",
        "@app.route('/old_page')\n",
        "def old_page():\n",
        "    return redirect(url_for('home')) # Redirects to the 'home' route"
      ],
      "metadata": {
        "id": "5hSSL74THFht"
      },
      "execution_count": null,
      "outputs": []
    },
    {
      "cell_type": "markdown",
      "source": [
        "###10. How do you handle errors in Flask (e.g., 404)?"
      ],
      "metadata": {
        "id": "Y1MuYjJ_HIjy"
      }
    },
    {
      "cell_type": "code",
      "source": [
        "from flask import Flask, render_template\n",
        "\n",
        "app = Flask(__name__)\n",
        "\n",
        "@app.errorhandler(404)\n",
        "def page_not_found(error):\n",
        "    return render_template('404.html'), 404\n",
        "\n",
        "@app.errorhandler(500)\n",
        "def internal_server_error(error):\n",
        "    return render_template('500.html'), 500\n",
        "\n",
        "@app.route('/some_non_existent_page')\n",
        "def trigger_404():\n",
        "    # This will trigger a 404 if the page doesn't exist\n",
        "    return render_template('non_existent_template.html')\n",
        "\n",
        "# templates/404.html\n",
        "\"\"\"\n",
        "<!DOCTYPE html>\n",
        "<html>\n",
        "<head>\n",
        "    <title>Page Not Found</title>\n",
        "</head>\n",
        "<body>\n",
        "    <h1>404 - Page Not Found</h1>\n",
        "    <p>Sorry, the page you are looking for does not exist.</p>\n",
        "</body>\n",
        "</html>\n",
        "\"\"\"\n",
        "\n",
        "# templates/500.html\n",
        "\"\"\"\n",
        "<!DOCTYPE html>\n",
        "<html>\n",
        "<head>\n",
        "    <title>Internal Server Error</title>\n",
        "</head>\n",
        "<body>\n",
        "    <h1>500 - Internal Server Error</h1>\n",
        "    <p>Something went wrong on our end. Please try again later.</p>\n",
        "</body>\n",
        "</html>\n",
        "\"\"\""
      ],
      "metadata": {
        "id": "lpFAMoO9HL2y"
      },
      "execution_count": null,
      "outputs": []
    },
    {
      "cell_type": "markdown",
      "source": [
        "###11. How do you structure a Flask app using Blueprints?"
      ],
      "metadata": {
        "id": "HCGXvcSOHQfT"
      }
    },
    {
      "cell_type": "code",
      "source": [
        "# project_folder/\n",
        "# ├── app.py\n",
        "# └── auth/\n",
        "#     ├── __init__.py\n",
        "#     └── views.py\n",
        "# └── blog/\n",
        "#     ├── __init__.py\n",
        "#     └── views.py\n",
        "\n",
        "# auth/views.py\n",
        "from flask import Blueprint, render_template\n",
        "\n",
        "auth_bp = Blueprint('auth', __name__, url_prefix='/auth')\n",
        "\n",
        "@auth_bp.route('/login')\n",
        "def login():\n",
        "    return render_template('auth/login.html')\n",
        "\n",
        "@auth_bp.route('/register')\n",
        "def register():\n",
        "    return render_template('auth/register.html')\n",
        "\n",
        "# blog/views.py\n",
        "from flask import Blueprint, render_template\n",
        "\n",
        "blog_bp = Blueprint('blog', __name__, url_prefix='/blog')\n",
        "\n",
        "@blog_bp.route('/')\n",
        "def index():\n",
        "    return render_template('blog/index.html')\n",
        "\n",
        "@blog_bp.route('/post/<int:post_id>')\n",
        "def post(post_id):\n",
        "    return f'Blog Post: {post_id}'\n",
        "\n",
        "# app.py\n",
        "from flask import Flask\n",
        "from auth.views import auth_bp\n",
        "from blog.views import blog_bp\n",
        "\n",
        "app = Flask(__name__)\n",
        "\n",
        "app.register_blueprint(auth_bp)\n",
        "app.register_blueprint(blog_bp)\n",
        "\n",
        "@app.route('/')\n",
        "def index():\n",
        "    return 'Welcome to the main application!'\n",
        "\n",
        "if __name__ == '__main__':\n",
        "    app.run(debug=True)"
      ],
      "metadata": {
        "id": "WHIHPjMiHVE6"
      },
      "execution_count": null,
      "outputs": []
    },
    {
      "cell_type": "markdown",
      "source": [
        "###12. How do you define a custom Jinja filter in Flask?"
      ],
      "metadata": {
        "id": "vg0VHFoUHYS5"
      }
    },
    {
      "cell_type": "code",
      "source": [
        "from flask import Flask, render_template\n",
        "\n",
        "app = Flask(__name__)\n",
        "\n",
        "@app.template_filter('reverse')\n",
        "def reverse_filter(s):\n",
        "    return s[::-1]\n",
        "\n",
        "@app.template_filter('capitalize_words')\n",
        "def capitalize_words_filter(text):\n",
        "    return ' '.join(word.capitalize() for word in text.split())\n",
        "\n",
        "@app.route('/')\n",
        "def index():\n",
        "    my_string = \"hello flask\"\n",
        "    my_text = \"this is a test string\"\n",
        "    return render_template('custom_filter.html', my_string=my_string, my_text=my_text)\n",
        "\n",
        "# templates/custom_filter.html\n",
        "\"\"\"\n",
        "<!DOCTYPE html>\n",
        "<html>\n",
        "<head>\n",
        "    <title>Custom Jinja Filters</title>\n",
        "</head>\n",
        "<body>\n",
        "    <p>Original string: {{ my_string }}</p>\n",
        "    <p>Reversed string: {{ my_string | reverse }}</p>\n",
        "\n",
        "    <p>Original text: {{ my_text }}</p>\n",
        "    <p>Capitalized words: {{ my_text | capitalize_words }}</p>\n",
        "</body>\n",
        "</html>\n",
        "\"\"\""
      ],
      "metadata": {
        "id": "KIgixBl6HbrY"
      },
      "execution_count": null,
      "outputs": []
    },
    {
      "cell_type": "markdown",
      "source": [
        "###13. How can you redirect with query parameters in Flask?"
      ],
      "metadata": {
        "id": "gYtjLYVaHd25"
      }
    },
    {
      "cell_type": "code",
      "source": [
        "from flask import Flask, redirect, url_for, request\n",
        "\n",
        "app = Flask(__name__)\n",
        "\n",
        "@app.route('/search')\n",
        "def search():\n",
        "    query = request.args.get('q', '')\n",
        "    return f\"You searched for: {query}\"\n",
        "\n",
        "@app.route('/redirect_to_search')\n",
        "def redirect_to_search():\n",
        "    return redirect(url_for('search', q='flask tutorial', category='webdev'))"
      ],
      "metadata": {
        "id": "Z8skF2IQHgyj"
      },
      "execution_count": null,
      "outputs": []
    },
    {
      "cell_type": "markdown",
      "source": [
        "###14. How do you return JSON responses in Flask?"
      ],
      "metadata": {
        "id": "ArVrEQ8qHinW"
      }
    },
    {
      "cell_type": "code",
      "source": [
        "from flask import Flask, jsonify\n",
        "\n",
        "app = Flask(__name__)\n",
        "\n",
        "@app.route('/api/data')\n",
        "def get_data():\n",
        "    data = {\n",
        "        \"name\": \"Alice\",\n",
        "        \"age\": 30,\n",
        "        \"city\": \"New York\"\n",
        "    }\n",
        "    return jsonify(data)\n",
        "\n",
        "@app.route('/api/users')\n",
        "def get_users():\n",
        "    users = [\n",
        "        {\"id\": 1, \"name\": \"Bob\"},\n",
        "        {\"id\": 2, \"name\": \"Charlie\"}\n",
        "    ]\n",
        "    return jsonify(users)"
      ],
      "metadata": {
        "id": "ABnF3t5pHls7"
      },
      "execution_count": null,
      "outputs": []
    },
    {
      "cell_type": "markdown",
      "source": [
        "###15. How do you capture URL parameters in Flask?"
      ],
      "metadata": {
        "id": "fxrv1ltoHoTo"
      }
    },
    {
      "cell_type": "code",
      "source": [
        "from flask import Flask\n",
        "\n",
        "app = Flask(__name__)\n",
        "\n",
        "@app.route('/user/<username>')\n",
        "def show_user_profile(username):\n",
        "    # username will be a string\n",
        "    return f'User Profile for: {username}'\n",
        "\n",
        "@app.route('/post/<int:post_id>')\n",
        "def show_post(post_id):\n",
        "    # post_id will be an integer\n",
        "    return f'Post ID: {post_id}'\n",
        "\n",
        "@app.route('/path/<path:subpath>')\n",
        "def show_subpath(subpath):\n",
        "    # subpath will capture the entire path, including slashes\n",
        "    return f'Subpath: {subpath}'\n",
        "\n",
        "@app.route('/user/<string:name>/age/<int:age>')\n",
        "def user_details(name, age):\n",
        "    return f'Name: {name}, Age: {age}'"
      ],
      "metadata": {
        "id": "lzTj3f7EHrqG"
      },
      "execution_count": null,
      "outputs": []
    }
  ]
}